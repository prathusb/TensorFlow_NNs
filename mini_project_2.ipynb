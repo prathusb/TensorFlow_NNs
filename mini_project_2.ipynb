{
 "cells": [
  {
   "cell_type": "code",
   "execution_count": 1,
   "metadata": {
    "collapsed": true
   },
   "outputs": [],
   "source": [
    "# To support both python 2 and python 3\n",
    "from __future__ import division, print_function, unicode_literals\n",
    "\n",
    "# Common imports\n",
    "import numpy as np\n",
    "import os\n",
    "\n",
    "# to make this notebook's output stable across runs\n",
    "def reset_graph(seed=42):\n",
    "    tf.reset_default_graph()\n",
    "    tf.set_random_seed(seed)\n",
    "    np.random.seed(seed)\n",
    "\n",
    "# To plot pretty figures\n",
    "%matplotlib inline\n",
    "import matplotlib\n",
    "import matplotlib.pyplot as plt\n",
    "plt.rcParams['axes.labelsize'] = 14\n",
    "plt.rcParams['xtick.labelsize'] = 12\n",
    "plt.rcParams['ytick.labelsize'] = 12\n",
    "\n",
    "# Where to save the figures\n",
    "PROJECT_ROOT_DIR = \".\"\n",
    "CHAPTER_ID = \"mini_project_2\"\n",
    "\n",
    "def save_fig(fig_id, tight_layout=True):\n",
    "    path = os.path.join(PROJECT_ROOT_DIR, \"images\", CHAPTER_ID, fig_id + \".png\")\n",
    "    print(\"Saving figure\", fig_id)\n",
    "    if tight_layout:\n",
    "        plt.tight_layout()\n",
    "    plt.savefig(path, format='png', dpi=300)"
   ]
  },
  {
   "cell_type": "code",
   "execution_count": 2,
   "metadata": {
    "collapsed": true
   },
   "outputs": [],
   "source": [
    "def plot_image(image):\n",
    "    plt.imshow(image, cmap=\"gray\", interpolation=\"nearest\")\n",
    "    plt.axis(\"off\")\n",
    "\n",
    "def plot_color_image(image):\n",
    "    plt.imshow(image.astype(np.uint8),interpolation=\"nearest\")\n",
    "    plt.axis(\"off\")"
   ]
  },
  {
   "cell_type": "code",
   "execution_count": 3,
   "metadata": {
    "collapsed": true
   },
   "outputs": [],
   "source": [
    "import tensorflow as tf\n",
    "from sklearn.datasets import fetch_lfw_people\n",
    "# import fetch_lfw_pairs\n",
    "\n",
    "#lfw_pairs_train = fetch_lfw_pairs(subset='train')\n",
    "#lfw_pairs_test = fetch_lfw_pairs(subset='test')\n",
    "\n",
    "# Set inputs\n",
    "lfw_people_train = fetch_lfw_people(min_faces_per_person=70, resize=0.4)\n",
    "lfw_people_test = fetch_lfw_people(min_faces_per_person=70, resize=0.4)\n",
    "X_train = lfw_people_train.images #lfw_pairs_train.data\n",
    "y_train = lfw_people_train.target #lfw_pairs_train.target\n",
    "X_test = lfw_people_test.images #lfw_pairs_test.data\n",
    "y_test = lfw_people_test.target #lfw_pairs_test.target\n",
    "X_train = X_train.astype(np.float32).reshape(-1, 50*37) / 255.0\n",
    "X_test = X_test.astype(np.float32).reshape(-1, 50*37) / 255.0\n",
    "#print(X_train.shape)\n",
    "\n",
    "# Split train into train & valid\n",
    "y_train = y_train.astype(np.int32)\n",
    "y_test = y_test.astype(np.int32)\n",
    "X_valid, X_train = X_train[:500], X_train[500:]\n",
    "y_valid, y_train = y_train[:500], y_train[500:]\n",
    "#print(lfw_people_train.images.shape)"
   ]
  },
  {
   "cell_type": "code",
   "execution_count": 4,
   "metadata": {
    "collapsed": true
   },
   "outputs": [],
   "source": [
    "# Setup of parameters\n",
    "height = 50\n",
    "width = 37\n",
    "channels = 1\n",
    "n_inputs = height * width\n",
    "\n",
    "conv1_fmaps = 32\n",
    "conv1_ksize = 3\n",
    "conv1_stride = 1\n",
    "conv1_pad = \"SAME\"\n",
    "\n",
    "conv2_fmaps = 64\n",
    "conv2_ksize = 3\n",
    "conv2_stride = 1\n",
    "conv2_pad = \"SAME\"\n",
    "\n",
    "pool3_fmaps = conv2_fmaps\n",
    "\n",
    "n_fc1 = 64\n",
    "n_outputs = 10\n",
    "\n",
    "reset_graph()\n",
    "\n",
    "#def cnn(inputs):\n",
    "with tf.name_scope(\"inputs\"):\n",
    "    X = tf.placeholder(tf.float32, shape=[None, n_inputs], name=\"X\")\n",
    "    X_reshaped = tf.reshape(X, shape=[-1, height, width, channels])\n",
    "    y = tf.placeholder(tf.int32, shape=[None], name=\"y\")\n",
    "\n",
    "with tf.name_scope(\"conv\"):\n",
    "    conv1 = tf.layers.conv2d(X_reshaped, filters=conv1_fmaps, kernel_size=conv1_ksize,\n",
    "                         strides=conv1_stride, padding=conv1_pad,\n",
    "                         activation=tf.nn.relu, name=\"conv1\")\n",
    "    conv2 = tf.layers.conv2d(conv1, filters=conv2_fmaps, kernel_size=conv2_ksize,\n",
    "                         strides=conv2_stride, padding=conv2_pad,\n",
    "                         activation=tf.nn.relu, name=\"conv2\")\n",
    "\n",
    "with tf.name_scope(\"pool3\"):\n",
    "    # ksize = filter size\n",
    "    pool3 = tf.nn.max_pool(conv2, ksize=[1, 2, 2, 1], strides=[1, 1, 1, 1], padding=\"VALID\")\n",
    "    # The shape was calculated by deeplizard's formula for calculating the dimensions with the input image and the filter dims\n",
    "    # The result was (n-f+1) x (n-f+1) dimensions.\n",
    "    pool3_flat = tf.reshape(pool3, shape=[-1, pool3_fmaps * 49 * 36])\n",
    "\n",
    "with tf.name_scope(\"fc1\"):\n",
    "    fc1 = tf.layers.dense(pool3_flat, n_fc1, activation=tf.nn.relu, name=\"fc1\")\n",
    "\n",
    "with tf.name_scope(\"output\"):\n",
    "    logits = tf.layers.dense(fc1, n_outputs, name=\"output\")\n",
    "    y_prob = tf.nn.softmax(logits, name=\"y_prob\")\n",
    "\n",
    "with tf.name_scope(\"train\"):\n",
    "    xentropy = tf.nn.sparse_softmax_cross_entropy_with_logits(logits=logits, labels=y)\n",
    "    loss = tf.reduce_mean(xentropy)\n",
    "    optimizer = tf.train.AdamOptimizer()\n",
    "    training_op = optimizer.minimize(loss)\n",
    "    loss_summary = tf.summary.scalar('log_loss', loss)\n",
    "\n",
    "with tf.name_scope(\"eval\"):\n",
    "    correct = tf.nn.in_top_k(logits, y, 1)\n",
    "    accuracy = tf.reduce_mean(tf.cast(correct, tf.float32))\n",
    "\n",
    "with tf.name_scope(\"init_and_save\"):\n",
    "    init = tf.global_variables_initializer()\n",
    "    saver = tf.train.Saver()\n",
    "    #return y_prob, logits, loss, training_op, loss_summary, accuracy, init, saver"
   ]
  },
  {
   "cell_type": "raw",
   "metadata": {
    "collapsed": true
   },
   "source": [
    "# For TensorBoard\n",
    "from datetime import datetime\n",
    "\n",
    "def log_dir(prefix=\"\"):\n",
    "    now = datetime.utcnow().strftime(\"%Y%m%d%H%M%S\")\n",
    "    root_logdir = \"tf_logs\"\n",
    "    if prefix:\n",
    "        prefix += \"-\"\n",
    "    name = prefix + \"run-\" + now\n",
    "    return \"{}/{}/\".format(root_logdir, name)"
   ]
  },
  {
   "cell_type": "raw",
   "metadata": {},
   "source": [
    "# Graph for TensorBoard\n",
    "# (not using an enhanced X, using X from before)\n",
    "n_inputs = 50*37  # lfw\n",
    "#n_hidden_layers = 3\n",
    "#n_per_h_layer = 100\n",
    "#n_outputs = 2\n",
    "logdir = log_dir(\"mini_project_2\")\n",
    "\n",
    "X = tf.placeholder(tf.float32, shape=(None, n_inputs), name=\"X\")\n",
    "y = tf.placeholder(tf.int32, shape=(None), name=\"y\")\n",
    "# inputs = X ???\n",
    "y_prob, logits, loss, training_op, loss_summary, accuracy, init, saver = cnn(X)\n",
    "\n",
    "file_writer = tf.summary.FileWriter(logdir, tf.get_default_graph())"
   ]
  },
  {
   "cell_type": "code",
   "execution_count": 5,
   "metadata": {
    "collapsed": true
   },
   "outputs": [],
   "source": [
    "def shuffle_batch(X, y, batch_size):\n",
    "    rnd_idx = np.random.permutation(len(X))\n",
    "    n_batches = len(X) // batch_size\n",
    "    for batch_idx in np.array_split(rnd_idx, n_batches):\n",
    "        X_batch, y_batch = X[batch_idx], y[batch_idx]\n",
    "        yield X_batch, y_batch"
   ]
  },
  {
   "cell_type": "code",
   "execution_count": 6,
   "metadata": {
    "collapsed": true
   },
   "outputs": [],
   "source": [
    "def get_model_params():\n",
    "    gvars = tf.get_collection(tf.GraphKeys.GLOBAL_VARIABLES)\n",
    "    return {gvar.op.name: value for gvar, value in zip(gvars, tf.get_default_session().run(gvars))}\n",
    "\n",
    "def restore_model_params(model_params):\n",
    "    gvar_names = list(model_params.keys())\n",
    "    assign_ops = {gvar_name: tf.get_default_graph().get_operation_by_name(gvar_name + \"/Assign\")\n",
    "                  for gvar_name in gvar_names}\n",
    "    init_values = {gvar_name: assign_op.inputs[1] for gvar_name, assign_op in assign_ops.items()}\n",
    "    feed_dict = {init_values[gvar_name]: model_params[gvar_name] for gvar_name in gvar_names}\n",
    "    tf.get_default_session().run(assign_ops, feed_dict=feed_dict)"
   ]
  },
  {
   "cell_type": "code",
   "execution_count": 7,
   "metadata": {},
   "outputs": [
    {
     "name": "stdout",
     "output_type": "stream",
     "text": [
      "Epoch 0, last batch accuracy: 53.8462%, valid. accuracy: 41.0000%, valid. best loss: 1.824212\n",
      "Epoch 1, last batch accuracy: 34.6154%, valid. accuracy: 41.0000%, valid. best loss: 1.630989\n",
      "Epoch 2, last batch accuracy: 48.0769%, valid. accuracy: 51.4000%, valid. best loss: 1.379075\n",
      "Epoch 3, last batch accuracy: 65.3846%, valid. accuracy: 56.4000%, valid. best loss: 1.125768\n",
      "Epoch 4, last batch accuracy: 71.1538%, valid. accuracy: 63.4000%, valid. best loss: 0.841883\n",
      "Epoch 5, last batch accuracy: 88.4615%, valid. accuracy: 75.0000%, valid. best loss: 0.681126\n",
      "Epoch 6, last batch accuracy: 90.3846%, valid. accuracy: 76.4000%, valid. best loss: 0.604173\n",
      "Epoch 7, last batch accuracy: 86.5385%, valid. accuracy: 80.2000%, valid. best loss: 0.541183\n",
      "Epoch 8, last batch accuracy: 98.0769%, valid. accuracy: 82.0000%, valid. best loss: 0.541183\n",
      "Epoch 9, last batch accuracy: 98.0769%, valid. accuracy: 82.8000%, valid. best loss: 0.507882\n",
      "Epoch 10, last batch accuracy: 98.0769%, valid. accuracy: 83.8000%, valid. best loss: 0.507882\n",
      "Epoch 11, last batch accuracy: 100.0000%, valid. accuracy: 83.4000%, valid. best loss: 0.507882\n",
      "Early stopping!\n"
     ]
    },
    {
     "data": {
      "image/png": "[encoded data removed]",
      "text/plain": [
       "<matplotlib.figure.Figure at 0x1bbdfafc470>"
      ]
     },
     "metadata": {},
     "output_type": "display_data"
    },
    {
     "name": "stdout",
     "output_type": "stream",
     "text": [
      "Final accuracy on test set: 93.2453%\n"
     ]
    }
   ],
   "source": [
    "import numpy as np\n",
    "import matplotlib.pyplot as plt\n",
    "epochs = list()\n",
    "train_acc = list()\n",
    "valid_acc = list()\n",
    "\n",
    "n_epochs = 1000\n",
    "batch_size = 50\n",
    "iteration = 0\n",
    "\n",
    "best_loss_val = np.infty\n",
    "check_interval = 1\n",
    "checks_since_last_progress = 0\n",
    "max_checks_without_progress = 20\n",
    "best_model_params = None\n",
    "\n",
    "checkpoint_path = \"/tmp/mini_project_2.ckpt\"\n",
    "checkpoint_epoch_path = checkpoint_path + \".epoch\"\n",
    "final_model_path = \"./mini_project_2\"\n",
    "\n",
    "with tf.Session() as sess:\n",
    "    init.run()\n",
    "    for epoch in range(n_epochs):\n",
    "        # Split into batches\n",
    "        for X_batch, y_batch in shuffle_batch(X_train, y_train, batch_size):\n",
    "            iteration += 1\n",
    "            # Run training\n",
    "            sess.run(training_op, feed_dict={X: X_batch, y: y_batch})\n",
    "            if iteration % check_interval == 0:\n",
    "                # Check loss val\n",
    "                loss_val = loss.eval(feed_dict={X: X_valid, y: y_valid})\n",
    "                # Update best\n",
    "                if loss_val < best_loss_val:\n",
    "                    #save_path = saver.save(sess, \"./mini_project.ckpt\")\n",
    "                    best_loss_val = loss_val\n",
    "                    checks_since_last_progress = 0\n",
    "                    best_model_params = get_model_params()\n",
    "                # O/w continue\n",
    "                else:\n",
    "                    checks_since_last_progress += 1\n",
    "        # Print accuracy\n",
    "        acc_batch = accuracy.eval(feed_dict={X: X_batch, y: y_batch})\n",
    "        acc_val = accuracy.eval(feed_dict={X: X_valid, y: y_valid})\n",
    "        epochs = np.append(epochs, epoch)\n",
    "        train_acc = np.append(train_acc, acc_batch)\n",
    "        valid_acc = np.append(valid_acc, acc_val)\n",
    "        print(\"Epoch {}, last batch accuracy: {:.4f}%, valid. accuracy: {:.4f}%, valid. best loss: {:.6f}\".format(\n",
    "                  epoch, acc_batch * 100, acc_val * 100, best_loss_val))\n",
    "        #save_path = saver.save(sess, \"./mini_project.epoch\")\n",
    "        # Early stopping\n",
    "        if checks_since_last_progress > max_checks_without_progress:\n",
    "            print(\"Early stopping!\")\n",
    "            break\n",
    "\n",
    "    plt.plot(epochs,train_acc,label='training')\n",
    "    plt.plot(epochs,valid_acc,label='validation')\n",
    "    plt.legend()\n",
    "    plt.xlabel('Epoch')\n",
    "    plt.ylabel('Accuracy')\n",
    "    plt.title('Training vs Validation Accuracy')\n",
    "    plt.show()\n",
    "    \n",
    "    # Test model\n",
    "    if best_model_params:\n",
    "        restore_model_params(best_model_params)\n",
    "    acc_test = accuracy.eval(feed_dict={X: X_test, y: y_test})\n",
    "    print(\"Final accuracy on test set: {:.4f}%\".format(acc_test*100))\n",
    "    save_path = saver.save(sess, \"./mini_project_2_final\")"
   ]
  },
  {
   "cell_type": "markdown",
   "metadata": {},
   "source": [
    "Tests:\n",
    "\n",
    "Same as Chapt 13 (fmaps 32 64, kern 1, stride 1, relu, maxpool, kern 1 2 2 1, stride 1 1 1 1, relu, fmap 64, poolflat, softmax, Adam):\n",
    "93.24534%\n",
    "\n",
    "(Can't increase kern or stride o/w it throws error)\n",
    "\n",
    "With Leaky_Relu:\n",
    "lower %\n",
    "\n",
    "With ELU:\n",
    "lower %\n",
    "\n",
    "With Relu and ksize 5:\n",
    "lower %\n",
    "\n",
    "With Relu, ksize 3, and GradDesc (at various learning rates including 0.1 and 0.01):\n",
    "lower %"
   ]
  },
  {
   "cell_type": "raw",
   "metadata": {},
   "source": [
    "from tensorflow_graph_in_jupyter import show_graph\n",
    "\n",
    "show_graph(tf.get_default_graph())"
   ]
  }
 ],
 "metadata": {
  "kernelspec": {
   "display_name": "Python 3",
   "language": "python",
   "name": "python3"
  },
  "language_info": {
   "codemirror_mode": {
    "name": "ipython",
    "version": 3
   },
   "file_extension": ".py",
   "mimetype": "text/x-python",
   "name": "python",
   "nbconvert_exporter": "python",
   "pygments_lexer": "ipython3",
   "version": "3.6.3"
  }
 },
 "nbformat": 4,
 "nbformat_minor": 2
}
