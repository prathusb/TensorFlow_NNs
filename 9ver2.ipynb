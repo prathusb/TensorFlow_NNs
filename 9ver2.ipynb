{
 "cells": [
  {
   "cell_type": "markdown",
   "metadata": {},
   "source": [
    "# Chapter 9"
   ]
  },
  {
   "cell_type": "code",
   "execution_count": null,
   "metadata": {
    "collapsed": true
   },
   "outputs": [],
   "source": [
    "#Test code\n",
    "#import tensorflow as tf\n",
    "\n",
    "#x=tf.Variable(3,name=\"x\")\n",
    "#y=tf.Variable(4,name=\"y\")\n",
    "#f=x*x*y+y+2"
   ]
  },
  {
   "cell_type": "code",
   "execution_count": 1,
   "metadata": {
    "collapsed": true
   },
   "outputs": [],
   "source": [
    "from sklearn.datasets import make_moons\n",
    "\n",
    "m=100\n",
    "X,y = make_moons(m, noise=0.1, random_state=42)"
   ]
  },
  {
   "cell_type": "code",
   "execution_count": 4,
   "metadata": {},
   "outputs": [],
   "source": [
    "import numpy as np\n",
    "\n",
    "X_moons_with_bias = np.c_[np.ones((m, 1)), X]\n",
    "#X_moons_with_bias[:5]"
   ]
  },
  {
   "cell_type": "code",
   "execution_count": 8,
   "metadata": {},
   "outputs": [],
   "source": [
    "y_moons_column_vector = y.reshape(-1, 1)\n",
    "#y_moons_column_vector"
   ]
  },
  {
   "cell_type": "code",
   "execution_count": 9,
   "metadata": {
    "collapsed": true
   },
   "outputs": [],
   "source": [
    "#Split into test and training data\n",
    "test_ratio = 0.2\n",
    "test_size = int(m * test_ratio)\n",
    "make_moons_plus_bias = np.c_[np.ones((m, 1)), X[:,0]]\n",
    "X_train = X_moons_with_bias[:-test_size]\n",
    "X_test = X_moons_with_bias[-test_size:]\n",
    "y_train = y_moons_column_vector[:-test_size]\n",
    "y_test = y_moons_column_vector[-test_size:]"
   ]
  },
  {
   "cell_type": "code",
   "execution_count": 10,
   "metadata": {
    "collapsed": true
   },
   "outputs": [],
   "source": [
    "def fetch_batch(epoch, batch_index, batch_size):\n",
    "    np.random.seed(epoch * n_batches + batch_index)\n",
    "    indices = np.random.randint(0, len(X_train), size=batch_size)\n",
    "    X_batch = X_train[indices]\n",
    "    y_batch = Y_train[indices]\n",
    "    \n",
    "    return X_batch, y_batch"
   ]
  },
  {
   "cell_type": "code",
   "execution_count": null,
   "metadata": {
    "collapsed": true
   },
   "outputs": [],
   "source": []
  },
  {
   "cell_type": "code",
   "execution_count": null,
   "metadata": {
    "collapsed": true
   },
   "outputs": [],
   "source": [
    "import tensorflow as tf\n",
    "\n",
    "# to make this notebook's output stable across runs\n",
    "def reset_graph(seed=42):\n",
    "    tf.reset_default_graph()\n",
    "    tf.set_random_seed(seed)\n",
    "    np.random.seed(seed)\n",
    "\n",
    "reset_graph()\n",
    "\n",
    "batch_size = 25\n",
    "n_batches = int(np.ceil(m/batch_size))\n",
    "n_epochs = 10\n",
    "\n",
    "#def log_reg(X_batch, y_batch):\n",
    "X=tf.placeholder(tf.float32, shape=(None, m), name=\"X\")\n",
    "y=tf.placeholder(tf.float32, shape=(None, m), name=\"y\")\n",
    "#X_batch=tf.placeholder(tf.float32, shape=(1, batch_size), name=\"X_batch\")\n",
    "#y_batch=tf.placeholder(tf.float32, shape=(1, batch_size), name=\"y_batch\")\n",
    "X_b = tf.concat([np.ones((25, 1)), X],-1) # augment X in order to include the constant\n",
    "#print(X_b)\n",
    "\n",
    "#theta = tf.linalg.inv(tf.transpose(X_b).dot(X_b)).dot(tf.transpose(X_b)).dot(y)\n",
    "#theta = tf.linalg.matmul(tf.linalg.matmul(tf.linalg.inv(tf.linalg.matmul(X_b, X_b, True, False)), X_b, False, True),y, False, False)\n",
    "theta = tf.Variable(tf.random_uniform([m + 1, 1], -1.0, 1.0, seed=42), name=\"theta\")\n",
    "y_b=tf.transpose(theta)*X_b\n",
    "p = 1/(1+tf.exp(-tf.transpose(theta)*X_b))\n",
    "J=tf.reduce_mean(y_b*tf.log(p)+(1-y_b)*tf.log(1-p))\n",
    "optimizer = tf.train.GradientDescentOptimizer(learning_rate=0.01)\n",
    "training_op = optimizer.minimize(J)\n",
    " #   return\n",
    "\n",
    "init = tf.global_variables_initializer()\n",
    "saver = tf.train.Saver()"
   ]
  },
  {
   "cell_type": "code",
   "execution_count": null,
   "metadata": {
    "collapsed": true
   },
   "outputs": [],
   "source": [
    "with tf.Session() as sess:\n",
    "    sess.run(init)\n",
    "\n",
    "    for epoch in range(n_epochs):\n",
    "        for batch_index in range(n_batches):\n",
    "#             X = tf.constant(X)\n",
    "#             y = tf.constant(y)\n",
    "            \n",
    "            X_batch, y_batch = fetch_batch(epoch, batch_index, batch_size, X, y)\n",
    "            #X_b_val = sess.run(X_b, feed_dict={X:X_batch, y:y_batch})\n",
    "            #theta_val = sess.run(theta, feed_dict={X:X_batch, y:y_batch})\n",
    "            #p_val = sess.run(p, feed_dict={X:X_batch, y:y_batch})\n",
    "            #J_val = sess.run(J, feed_dict={X:X_batch, y:y_batch})\n",
    "\n",
    "            #X_b = tf.concat([np.ones((25, 1)), X_batch],-1) # augment X in order to include the constant\n",
    "            #theta = tf.linalg.inv(tf.transpose(X_b).dot(X_b)).dot(tf.transpose(X_b)).dot(y_batch)\n",
    "            #p = 1/(1+tf.exp(-tf.transpose(theta)*X_b))\n",
    "            #J=tf.reduce_mean(y_batch*log(p)+(1-y_batch)*log(1-p))\n",
    "            #optimizer = tf.train.GradientDescentOptimizer(learning_rate=0.01)\n",
    "            #training_op = optimizer.minimize(J)\n",
    "            \n",
    "            save_path = saver.save(sess, \"C:/Users/Prathusha/Documents/GitHub/Special_Project/9.ckpt\")\n",
    "            sess.run(training_op, feed_dict={X: X_batch, y: y_batch})\n",
    "\n",
    "    save_path = saver.save(sess, \"Documents/GitHub/Special_Project/9_final.ckpt\")"
   ]
  }
 ],
 "metadata": {
  "kernelspec": {
   "display_name": "Python 3",
   "language": "python",
   "name": "python3"
  },
  "language_info": {
   "codemirror_mode": {
    "name": "ipython",
    "version": 3
   },
   "file_extension": ".py",
   "mimetype": "text/x-python",
   "name": "python",
   "nbconvert_exporter": "python",
   "pygments_lexer": "ipython3",
   "version": "3.6.3"
  }
 },
 "nbformat": 4,
 "nbformat_minor": 2
}
