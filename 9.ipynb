{
 "cells": [
  {
   "cell_type": "markdown",
   "metadata": {},
   "source": [
    "# Chapter 9"
   ]
  },
  {
   "cell_type": "code",
   "execution_count": null,
   "metadata": {
    "collapsed": true
   },
   "outputs": [],
   "source": [
    "#Test code\n",
    "#import tensorflow as tf\n",
    "\n",
    "#x=tf.Variable(3,name=\"x\")\n",
    "#y=tf.Variable(4,name=\"y\")\n",
    "#f=x*x*y+y+2"
   ]
  },
  {
   "cell_type": "code",
   "execution_count": 6,
   "metadata": {
    "collapsed": true
   },
   "outputs": [],
   "source": [
    "import numpy as np\n",
    "from sklearn.datasets import make_moons\n",
    "\n",
    "m=100\n",
    "batch_size = 25\n",
    "n_batches = int(np.ceil(m/batch_size))\n",
    "n_epochs = 10\n",
    "\n",
    "X,y = make_moons(m)\n",
    "y_col = y.reshape(-1, 1)\n",
    "\n",
    "#X = tf.constant(X)\n",
    "#y = tf.constant(y)\n",
    "\n",
    "#Split into test and training data\n",
    "test_ratio = 0.2\n",
    "test_size = int(m * test_ratio)\n",
    "#make_moons_plus_bias = np.c_[np.ones((m, 1)), X[:,0]]\n",
    "#X_train = X_moons_with_bias[:-test_size]\n",
    "#X_test = X_moons_with_bias[-test_size:]\n",
    "#y_train = y_moons_column_vector[:-test_size]\n",
    "#y_test = y_moons_column_vector[-test_size:]\n",
    "\n",
    "def fetch_batch(epoch, batch_index, batch_size, X, y):\n",
    "    np.random.seed(epoch * n_batches + batch_index)\n",
    "    indices = np.random.randint(m, size=batch_size)\n",
    "    make_moons_plus_bias = np.c_[np.ones((m, 1)), X[:,0]]\n",
    "    X = tf.constant(make_moons_plus_bias)\n",
    "    y = tf.constant(y)\n",
    "    print(X)\n",
    "    print(y)\n",
    "#    X = tf.constant(make_moons_plus_bias, dtype=tf.float32, name=\"X\")\n",
    "#    y = tf.constant(X[:,1], dtype=tf.float32, name=\"y\")\n",
    "    X_batch = tf.constant(make_moons_plus_bias[indices])\n",
    "    y_batch = tf.constant(y[indices])\n",
    "    \n",
    "    return X_batch, y_batch"
   ]
  },
  {
   "cell_type": "code",
   "execution_count": 3,
   "metadata": {
    "collapsed": true
   },
   "outputs": [],
   "source": [
    "import tensorflow as tf\n",
    "\n",
    "# to make this notebook's output stable across runs\n",
    "def reset_graph(seed=42):\n",
    "    tf.reset_default_graph()\n",
    "    tf.set_random_seed(seed)\n",
    "    np.random.seed(seed)"
   ]
  },
  {
   "cell_type": "code",
   "execution_count": 7,
   "metadata": {
    "collapsed": true
   },
   "outputs": [],
   "source": [
    "reset_graph()\n",
    "\n",
    "#def log_reg(X_batch, y_batch):\n",
    "X=tf.placeholder(tf.float32, shape=(None, m), name=\"X\")\n",
    "y=tf.placeholder(tf.float32, shape=(None, m), name=\"y\")\n",
    "#X_batch=tf.placeholder(tf.float32, shape=(1, batch_size), name=\"X_batch\")\n",
    "#y_batch=tf.placeholder(tf.float32, shape=(1, batch_size), name=\"y_batch\")\n",
    "X_b = tf.concat([np.ones((25, 1)), X],-1) # augment X in order to include the constant\n",
    "#print(X_b)\n",
    "\n",
    "#theta = tf.linalg.inv(tf.transpose(X_b).dot(X_b)).dot(tf.transpose(X_b)).dot(y)\n",
    "#theta = tf.linalg.matmul(tf.linalg.matmul(tf.linalg.inv(tf.linalg.matmul(X_b, X_b, True, False)), X_b, False, True),y, False, False)\n",
    "theta = tf.Variable(tf.random_uniform([m + 1, 1], -1.0, 1.0, seed=42), name=\"theta\")\n",
    "y_b=tf.transpose(theta)*X_b\n",
    "p = 1/(1+tf.exp(-tf.transpose(theta)*X_b))\n",
    "J=tf.reduce_mean(y_b*tf.log(p)+(1-y_b)*tf.log(1-p))\n",
    "optimizer = tf.train.GradientDescentOptimizer(learning_rate=0.01)\n",
    "training_op = optimizer.minimize(J)\n",
    " #   return\n",
    "\n",
    "init = tf.global_variables_initializer()\n",
    "saver = tf.train.Saver()"
   ]
  },
  {
   "cell_type": "code",
   "execution_count": 8,
   "metadata": {},
   "outputs": [
    {
     "ename": "ValueError",
     "evalue": "all the input array dimensions except for the concatenation axis must match exactly",
     "output_type": "error",
     "traceback": [
      "\u001b[1;31m---------------------------------------------------------------------------\u001b[0m",
      "\u001b[1;31mValueError\u001b[0m                                Traceback (most recent call last)",
      "\u001b[1;32m<ipython-input-8-359770462681>\u001b[0m in \u001b[0;36m<module>\u001b[1;34m()\u001b[0m\n\u001b[0;32m      4\u001b[0m     \u001b[1;32mfor\u001b[0m \u001b[0mepoch\u001b[0m \u001b[1;32min\u001b[0m \u001b[0mrange\u001b[0m\u001b[1;33m(\u001b[0m\u001b[0mn_epochs\u001b[0m\u001b[1;33m)\u001b[0m\u001b[1;33m:\u001b[0m\u001b[1;33m\u001b[0m\u001b[0m\n\u001b[0;32m      5\u001b[0m         \u001b[1;32mfor\u001b[0m \u001b[0mbatch_index\u001b[0m \u001b[1;32min\u001b[0m \u001b[0mrange\u001b[0m\u001b[1;33m(\u001b[0m\u001b[0mn_batches\u001b[0m\u001b[1;33m)\u001b[0m\u001b[1;33m:\u001b[0m\u001b[1;33m\u001b[0m\u001b[0m\n\u001b[1;32m----> 6\u001b[1;33m             \u001b[0mX_batch\u001b[0m\u001b[1;33m,\u001b[0m \u001b[0my_batch\u001b[0m \u001b[1;33m=\u001b[0m \u001b[0mfetch_batch\u001b[0m\u001b[1;33m(\u001b[0m\u001b[0mepoch\u001b[0m\u001b[1;33m,\u001b[0m \u001b[0mbatch_index\u001b[0m\u001b[1;33m,\u001b[0m \u001b[0mbatch_size\u001b[0m\u001b[1;33m,\u001b[0m \u001b[0mX\u001b[0m\u001b[1;33m,\u001b[0m \u001b[0my\u001b[0m\u001b[1;33m)\u001b[0m\u001b[1;33m\u001b[0m\u001b[0m\n\u001b[0m\u001b[0;32m      7\u001b[0m             \u001b[1;31m#X_b_val = sess.run(X_b, feed_dict={X:X_batch, y:y_batch})\u001b[0m\u001b[1;33m\u001b[0m\u001b[1;33m\u001b[0m\u001b[0m\n\u001b[0;32m      8\u001b[0m             \u001b[1;31m#theta_val = sess.run(theta, feed_dict={X:X_batch, y:y_batch})\u001b[0m\u001b[1;33m\u001b[0m\u001b[1;33m\u001b[0m\u001b[0m\n",
      "\u001b[1;32m<ipython-input-6-152ed4641eac>\u001b[0m in \u001b[0;36mfetch_batch\u001b[1;34m(epoch, batch_index, batch_size, X, y)\u001b[0m\n\u001b[0;32m     25\u001b[0m     \u001b[0mnp\u001b[0m\u001b[1;33m.\u001b[0m\u001b[0mrandom\u001b[0m\u001b[1;33m.\u001b[0m\u001b[0mseed\u001b[0m\u001b[1;33m(\u001b[0m\u001b[0mepoch\u001b[0m \u001b[1;33m*\u001b[0m \u001b[0mn_batches\u001b[0m \u001b[1;33m+\u001b[0m \u001b[0mbatch_index\u001b[0m\u001b[1;33m)\u001b[0m\u001b[1;33m\u001b[0m\u001b[0m\n\u001b[0;32m     26\u001b[0m     \u001b[0mindices\u001b[0m \u001b[1;33m=\u001b[0m \u001b[0mnp\u001b[0m\u001b[1;33m.\u001b[0m\u001b[0mrandom\u001b[0m\u001b[1;33m.\u001b[0m\u001b[0mrandint\u001b[0m\u001b[1;33m(\u001b[0m\u001b[0mm\u001b[0m\u001b[1;33m,\u001b[0m \u001b[0msize\u001b[0m\u001b[1;33m=\u001b[0m\u001b[0mbatch_size\u001b[0m\u001b[1;33m)\u001b[0m\u001b[1;33m\u001b[0m\u001b[0m\n\u001b[1;32m---> 27\u001b[1;33m     \u001b[0mmake_moons_plus_bias\u001b[0m \u001b[1;33m=\u001b[0m \u001b[0mnp\u001b[0m\u001b[1;33m.\u001b[0m\u001b[0mc_\u001b[0m\u001b[1;33m[\u001b[0m\u001b[0mnp\u001b[0m\u001b[1;33m.\u001b[0m\u001b[0mones\u001b[0m\u001b[1;33m(\u001b[0m\u001b[1;33m(\u001b[0m\u001b[0mm\u001b[0m\u001b[1;33m,\u001b[0m \u001b[1;36m1\u001b[0m\u001b[1;33m)\u001b[0m\u001b[1;33m)\u001b[0m\u001b[1;33m,\u001b[0m \u001b[0mX\u001b[0m\u001b[1;33m[\u001b[0m\u001b[1;33m:\u001b[0m\u001b[1;33m,\u001b[0m\u001b[1;36m0\u001b[0m\u001b[1;33m]\u001b[0m\u001b[1;33m]\u001b[0m\u001b[1;33m\u001b[0m\u001b[0m\n\u001b[0m\u001b[0;32m     28\u001b[0m     \u001b[0mX\u001b[0m \u001b[1;33m=\u001b[0m \u001b[0mtf\u001b[0m\u001b[1;33m.\u001b[0m\u001b[0mconstant\u001b[0m\u001b[1;33m(\u001b[0m\u001b[0mmake_moons_plus_bias\u001b[0m\u001b[1;33m)\u001b[0m\u001b[1;33m\u001b[0m\u001b[0m\n\u001b[0;32m     29\u001b[0m     \u001b[0my\u001b[0m \u001b[1;33m=\u001b[0m \u001b[0mtf\u001b[0m\u001b[1;33m.\u001b[0m\u001b[0mconstant\u001b[0m\u001b[1;33m(\u001b[0m\u001b[0my\u001b[0m\u001b[1;33m)\u001b[0m\u001b[1;33m\u001b[0m\u001b[0m\n",
      "\u001b[1;32m~\\Anaconda3\\lib\\site-packages\\numpy\\lib\\index_tricks.py\u001b[0m in \u001b[0;36m__getitem__\u001b[1;34m(self, key)\u001b[0m\n\u001b[0;32m    402\u001b[0m                 \u001b[0mobjs\u001b[0m\u001b[1;33m[\u001b[0m\u001b[0mk\u001b[0m\u001b[1;33m]\u001b[0m \u001b[1;33m=\u001b[0m \u001b[0mobjs\u001b[0m\u001b[1;33m[\u001b[0m\u001b[0mk\u001b[0m\u001b[1;33m]\u001b[0m\u001b[1;33m.\u001b[0m\u001b[0mastype\u001b[0m\u001b[1;33m(\u001b[0m\u001b[0mfinal_dtype\u001b[0m\u001b[1;33m)\u001b[0m\u001b[1;33m\u001b[0m\u001b[0m\n\u001b[0;32m    403\u001b[0m \u001b[1;33m\u001b[0m\u001b[0m\n\u001b[1;32m--> 404\u001b[1;33m         \u001b[0mres\u001b[0m \u001b[1;33m=\u001b[0m \u001b[0mself\u001b[0m\u001b[1;33m.\u001b[0m\u001b[0mconcatenate\u001b[0m\u001b[1;33m(\u001b[0m\u001b[0mtuple\u001b[0m\u001b[1;33m(\u001b[0m\u001b[0mobjs\u001b[0m\u001b[1;33m)\u001b[0m\u001b[1;33m,\u001b[0m \u001b[0maxis\u001b[0m\u001b[1;33m=\u001b[0m\u001b[0maxis\u001b[0m\u001b[1;33m)\u001b[0m\u001b[1;33m\u001b[0m\u001b[0m\n\u001b[0m\u001b[0;32m    405\u001b[0m \u001b[1;33m\u001b[0m\u001b[0m\n\u001b[0;32m    406\u001b[0m         \u001b[1;32mif\u001b[0m \u001b[0mmatrix\u001b[0m\u001b[1;33m:\u001b[0m\u001b[1;33m\u001b[0m\u001b[0m\n",
      "\u001b[1;31mValueError\u001b[0m: all the input array dimensions except for the concatenation axis must match exactly"
     ]
    }
   ],
   "source": [
    "with tf.Session() as sess:\n",
    "    sess.run(init)\n",
    "\n",
    "    for epoch in range(n_epochs):\n",
    "        for batch_index in range(n_batches):\n",
    "            X_batch, y_batch = fetch_batch(epoch, batch_index, batch_size, X, y)\n",
    "            #X_b_val = sess.run(X_b, feed_dict={X:X_batch, y:y_batch})\n",
    "            #theta_val = sess.run(theta, feed_dict={X:X_batch, y:y_batch})\n",
    "            #p_val = sess.run(p, feed_dict={X:X_batch, y:y_batch})\n",
    "            #J_val = sess.run(J, feed_dict={X:X_batch, y:y_batch})\n",
    "\n",
    "            #X_b = tf.concat([np.ones((25, 1)), X_batch],-1) # augment X in order to include the constant\n",
    "            #theta = tf.linalg.inv(tf.transpose(X_b).dot(X_b)).dot(tf.transpose(X_b)).dot(y_batch)\n",
    "            #p = 1/(1+tf.exp(-tf.transpose(theta)*X_b))\n",
    "            #J=tf.reduce_mean(y_batch*log(p)+(1-y_batch)*log(1-p))\n",
    "            #optimizer = tf.train.GradientDescentOptimizer(learning_rate=0.01)\n",
    "            #training_op = optimizer.minimize(J)\n",
    "            \n",
    "            save_path = saver.save(sess, \"C:/Users/Prathusha/Documents/GitHub/Special_Project/9.ckpt\")\n",
    "            sess.run(training_op, feed_dict={X: X_batch, y: y_batch})\n",
    "\n",
    "    save_path = saver.save(sess, \"Documents/GitHub/Special_Project/9_final.ckpt\")"
   ]
  }
 ],
 "metadata": {
  "kernelspec": {
   "display_name": "Python 3",
   "language": "python",
   "name": "python3"
  },
  "language_info": {
   "codemirror_mode": {
    "name": "ipython",
    "version": 3
   },
   "file_extension": ".py",
   "mimetype": "text/x-python",
   "name": "python",
   "nbconvert_exporter": "python",
   "pygments_lexer": "ipython3",
   "version": "3.6.3"
  }
 },
 "nbformat": 4,
 "nbformat_minor": 2
}
